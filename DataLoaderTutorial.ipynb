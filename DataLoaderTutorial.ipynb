{
 "cells": [
  {
   "cell_type": "markdown",
   "id": "494bdf0e-e4c8-49b3-94b4-cb98544f38cc",
   "metadata": {},
   "source": [
    "# 📊 Data Loading, Cleaning, and Visualization\n",
    "\n",
    "## **1️⃣ Introduction**\n",
    "This notebook demonstrates how to:\n",
    "- Load data from **CSV, Excel, JSON, and SQL**\n",
    "- Handle **missing values** and **outliers**\n",
    "- Perform **basic visualizations**\n",
    "- Save the cleaned dataset\n",
    "\n",
    "---\n",
    "\n",
    "## **2️⃣ Data Loading**\n",
    "- **CSV**: `pd.read_csv()`\n",
    "- **Excel**: `pd.read_excel()`\n",
    "- **JSON**: `pd.read_json()`\n",
    "- **SQL**: `pd.read_sql()`\n",
    "\n",
    "---\n",
    "\n",
    "## **3️⃣ Data Cleaning**\n",
    "- **Missing values**: Fill with mean or drop\n",
    "- **Outliers**: Remove using IQR\n",
    "- **Data types**: Convert for consistency\n",
    "\n",
    "---\n",
    "\n",
    "## **4️⃣ Data Visualization**\n",
    "- Histogram: `plt.hist()`\n",
    "- Correlation Matrix: `sns.heatmap()`\n",
    "\n",
    "---\n",
    "\n",
    "## **5️⃣ Export Cleaned Data**\n",
    "- Save as CSV: `df.to_csv()`\n",
    "- Save as Excel: `df.to_excel()`\n"
   ]
  },
  {
   "cell_type": "code",
   "execution_count": null,
   "id": "7b1623c5-d470-454d-a03f-480fa22f9417",
   "metadata": {},
   "outputs": [],
   "source": []
  },
  {
   "cell_type": "code",
   "execution_count": null,
   "id": "c6d407de-dd3d-4430-86d2-0320b36245e7",
   "metadata": {},
   "outputs": [],
   "source": []
  }
 ],
 "metadata": {
  "kernelspec": {
   "display_name": "Python 3 (ipykernel)",
   "language": "python",
   "name": "python3"
  },
  "language_info": {
   "codemirror_mode": {
    "name": "ipython",
    "version": 3
   },
   "file_extension": ".py",
   "mimetype": "text/x-python",
   "name": "python",
   "nbconvert_exporter": "python",
   "pygments_lexer": "ipython3",
   "version": "3.11.6"
  }
 },
 "nbformat": 4,
 "nbformat_minor": 5
}
